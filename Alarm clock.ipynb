{
 "cells": [
  {
   "cell_type": "code",
   "execution_count": 1,
   "metadata": {},
   "outputs": [
    {
     "name": "stdout",
     "output_type": "stream",
     "text": [
      "What time do you want to wake up?\n",
      "Use this form.\n",
      "Example: 06:30:00\n",
      "> 06:23:23\n",
      "The time is11:04:46\n",
      "The time is11:04:46\n",
      "The time is11:04:47\n",
      "The time is11:04:48\n",
      "The time is11:04:49\n",
      "The time is11:04:50\n",
      "The time is11:04:51\n",
      "The time is11:04:52\n",
      "The time is11:04:53\n",
      "The time is11:04:54\n",
      "The time is11:04:55\n"
     ]
    },
    {
     "ename": "KeyboardInterrupt",
     "evalue": "",
     "output_type": "error",
     "traceback": [
      "\u001b[1;31m---------------------------------------------------------------------------\u001b[0m",
      "\u001b[1;31mKeyboardInterrupt\u001b[0m                         Traceback (most recent call last)",
      "\u001b[1;32m<ipython-input-1-e8a9efa7eee5>\u001b[0m in \u001b[0;36m<module>\u001b[1;34m()\u001b[0m\n\u001b[0;32m     21\u001b[0m \u001b[1;33m\u001b[0m\u001b[0m\n\u001b[0;32m     22\u001b[0m \u001b[1;33m\u001b[0m\u001b[0m\n\u001b[1;32m---> 23\u001b[1;33m     \u001b[0mtime\u001b[0m\u001b[1;33m.\u001b[0m\u001b[0msleep\u001b[0m\u001b[1;33m(\u001b[0m\u001b[1;36m1\u001b[0m\u001b[1;33m)\u001b[0m\u001b[1;33m\u001b[0m\u001b[0m\n\u001b[0m\u001b[0;32m     24\u001b[0m \u001b[1;33m\u001b[0m\u001b[0m\n\u001b[0;32m     25\u001b[0m \u001b[1;33m\u001b[0m\u001b[0m\n",
      "\u001b[1;31mKeyboardInterrupt\u001b[0m: "
     ]
    }
   ],
   "source": [
    "import time\n",
    "import webbrowser\n",
    "import random\n",
    "\n",
    "\n",
    "print (\"What time do you want to wake up?\")\n",
    "print (\"Use this form.\\nExample: 06:30:00\")\n",
    "Alarm = input(\"> \")\n",
    "\n",
    "\n",
    "\n",
    "Time = time.strftime(\"%H:%M:%S\")\n",
    "\n",
    "\n",
    "\n",
    "while time != Alarm:\n",
    "    \n",
    "    print (\"The time is\" + Time)\n",
    "    \n",
    "    Time = time.strftime(\"%H:%M:%S\")\n",
    "    \n",
    "    \n",
    "    time.sleep(1)\n",
    "    \n",
    "    \n",
    "    \n",
    "if Time == Alarm:\n",
    "    \n",
    "    \n",
    "    print (\"Time to wake up!\")"
   ]
  },
  {
   "cell_type": "code",
   "execution_count": null,
   "metadata": {},
   "outputs": [],
   "source": []
  }
 ],
 "metadata": {
  "kernelspec": {
   "display_name": "Python 3",
   "language": "python",
   "name": "python3"
  },
  "language_info": {
   "codemirror_mode": {
    "name": "ipython",
    "version": 3
   },
   "file_extension": ".py",
   "mimetype": "text/x-python",
   "name": "python",
   "nbconvert_exporter": "python",
   "pygments_lexer": "ipython3",
   "version": "3.6.5"
  }
 },
 "nbformat": 4,
 "nbformat_minor": 2
}
